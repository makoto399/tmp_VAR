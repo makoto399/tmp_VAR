{
 "cells": [
  {
   "cell_type": "markdown",
   "id": "3aa077ba",
   "metadata": {},
   "source": [
    "# Import"
   ]
  },
  {
   "cell_type": "code",
   "execution_count": null,
   "id": "3b828baa",
   "metadata": {},
   "outputs": [],
   "source": [
    "import pandas as pd\n",
    "import numpy as np\n",
    "import statsmodels.api as sm\n",
    "import matplotlib.pyplot as plt\n",
    "from statsmodels.graphics.tsaplots import plot_acf, plot_pacf"
   ]
  },
  {
   "cell_type": "markdown",
   "id": "4b5d7547",
   "metadata": {},
   "source": [
    "# Config"
   ]
  },
  {
   "cell_type": "code",
   "execution_count": null,
   "id": "5c78c762",
   "metadata": {},
   "outputs": [],
   "source": [
    "SIM_FUTURE_MONTH = 12*2\n",
    "SIM_NUM = 1000\n",
    "COEF_ESTIMATE_MONTH = 12*5\n",
    "EPSILON_ESTIMATE_MONTH = 12*2\n",
    "PATH_INPUT = \"/Users/makoto/Desktop/crude-oil.xls\""
   ]
  },
  {
   "cell_type": "markdown",
   "id": "25de40e0",
   "metadata": {},
   "source": [
    "# Common Function"
   ]
  },
  {
   "cell_type": "code",
   "execution_count": null,
   "id": "436310a4",
   "metadata": {},
   "outputs": [],
   "source": [
    "def add_suffix_to_level0(df, suffix, level=0):\n",
    "    df.columns = pd.MultiIndex.from_tuples(\n",
    "        [\n",
    "            tuple(f\"{val}{suffix}\" if i == level else val for i, val in enumerate(col))\n",
    "            for col in df.columns\n",
    "        ]\n",
    "    )\n",
    "    return df"
   ]
  },
  {
   "cell_type": "code",
   "execution_count": null,
   "id": "425272ce",
   "metadata": {},
   "outputs": [],
   "source": [
    "def use_prev_row(func):\n",
    "    prev_row = {}\n",
    "    def wrapper(cur_row, **kwargs):\n",
    "        val = func(cur_row, prev_row)\n",
    "        prev_row.update(val)\n",
    "        return val\n",
    "    def set_prev_row(row):\n",
    "        nonlocal prev_row\n",
    "        prev_row = row\n",
    "    wrapper.set_prev_row = set_prev_row\n",
    "    return wrapper\n"
   ]
  },
  {
   "cell_type": "markdown",
   "id": "5ffc8bde",
   "metadata": {},
   "source": [
    "# MODEL CONSTRUCTION"
   ]
  },
  {
   "cell_type": "code",
   "execution_count": null,
   "id": "2f8fdb1c",
   "metadata": {},
   "outputs": [],
   "source": [
    "#データ読み込み\n",
    "org = pd.read_excel(\n",
    "    PATH_INPUT,\n",
    "    skiprows=5,\n",
    "    usecols=[2,3,4],\n",
    ")\n",
    "org.columns=pd.MultiIndex.from_product([[\"org\"], org.columns])\n",
    "org = org.iloc[400:].reset_index(drop=True)"
   ]
  },
  {
   "cell_type": "code",
   "execution_count": null,
   "id": "effbf1ef",
   "metadata": {},
   "outputs": [],
   "source": [
    "#中間ファイル生成\n",
    "org_diff = add_suffix_to_level0(org.diff(), \"_diff\")\n",
    "org_diff_shift = add_suffix_to_level0(org_diff.shift(), \"_shift\")\n",
    "org = pd.concat([org, org_diff, org_diff_shift], axis=1)"
   ]
  },
  {
   "cell_type": "code",
   "execution_count": null,
   "id": "9aef2b47",
   "metadata": {},
   "outputs": [],
   "source": [
    "#モデル構築\n",
    "model = sm.tsa.VAR(org[\"org_diff\"].iloc[-COEF_ESTIMATE_MONTH:].dropna())\n",
    "results = model.fit(1)"
   ]
  },
  {
   "cell_type": "code",
   "execution_count": null,
   "id": "0f3ced8a",
   "metadata": {},
   "outputs": [],
   "source": [
    "#in-sample予測\n",
    "def predict(x, coef=results.params.values):\n",
    "    var = np.insert(x.values, 0, 1)\n",
    "    insample_pred = np.dot(var, coef)\n",
    "    return pd.Series(insample_pred, index=x.keys())\n",
    "past_in_pred = org[[\"org_diff_shift\"]].apply(predict, axis=1)\n",
    "past_in_pred = add_suffix_to_level0(past_in_pred, \"_to_pred\")\n",
    "past = pd.concat([org, past_in_pred], axis=1)"
   ]
  },
  {
   "cell_type": "code",
   "execution_count": null,
   "id": "e9e40c0a",
   "metadata": {},
   "outputs": [],
   "source": [
    "#残差計算\n",
    "past_resid = add_suffix_to_level0(past[[\"org_diff\"]] - past[\"org_diff_shift_to_pred\"].values, \"_resid\")\n",
    "past = pd.concat([past, past_resid], axis=1)"
   ]
  },
  {
   "cell_type": "code",
   "execution_count": null,
   "id": "0b6494eb",
   "metadata": {},
   "outputs": [],
   "source": [
    "#撹乱項の分散共分散行列の推定\n",
    "cov = past[\"org_diff_resid\"].iloc[-EPSILON_ESTIMATE_MONTH:].cov()"
   ]
  },
  {
   "cell_type": "code",
   "execution_count": null,
   "id": "4da50e80",
   "metadata": {},
   "outputs": [],
   "source": [
    "#sim用のデータフレーム作成\n",
    "def make_sim_df(df, cov=cov):\n",
    "    columns = pd.MultiIndex.from_tuples([(\"epsilon\", k2) for (k1, k2) in df.columns if k1==\"org\"])\n",
    "    return pd.DataFrame(\n",
    "        np.random.multivariate_normal(mean=[0,0,0], cov=cov.values, size=SIM_FUTURE_MONTH),\n",
    "        columns=columns,\n",
    "        index=range(len(df),len(df)+SIM_FUTURE_MONTH),\n",
    "    )"
   ]
  },
  {
   "cell_type": "code",
   "execution_count": null,
   "id": "5681a048",
   "metadata": {},
   "outputs": [],
   "source": [
    "#差分の将来予測\n",
    "@use_prev_row\n",
    "def predict_future_org_diff(cur_row, prev_row, coef=results.params.values):\n",
    "    var = np.array(list(prev_row.values))\n",
    "    var = np.insert(var, 0, 1)\n",
    "    result = np.dot(var, coef) + cur_row.values\n",
    "    return pd.Series(result, index = prev_row.keys())"
   ]
  },
  {
   "cell_type": "code",
   "execution_count": null,
   "id": "d9d50a4f",
   "metadata": {},
   "outputs": [],
   "source": [
    "#原系列の将来予測\n",
    "@use_prev_row\n",
    "def predict_future_org(cur_row, prev_row):\n",
    "    return pd.Series(cur_row.values + prev_row.values, index= prev_row.keys())"
   ]
  },
  {
   "cell_type": "code",
   "execution_count": null,
   "id": "cca912df",
   "metadata": {},
   "outputs": [],
   "source": [
    "#本質的な実行main\n",
    "def simulate(past):\n",
    "    sim = make_sim_df(past)\n",
    "    predict_future_org_diff.set_prev_row(past[[\"org_diff\"]].iloc[-1])\n",
    "    future_org_diff = sim[[\"epsilon\"]].apply(predict_future_org_diff, axis=1)\n",
    "    sim = pd.concat([sim, future_org_diff],axis=1)\n",
    "    predict_future_org.set_prev_row(past[[\"org\"]].iloc[-1])\n",
    "    future_org = sim[[\"org_diff\"]].apply(predict_future_org, axis=1)\n",
    "    sim = pd.concat([sim, future_org], axis=1)\n",
    "    return pd.concat([past, sim])"
   ]
  },
  {
   "cell_type": "code",
   "execution_count": null,
   "id": "c9f423b1",
   "metadata": {},
   "outputs": [],
   "source": [
    "def make_analysis_data(past):\n",
    "    return pd.concat([simulate(past) for n in range(SIM_NUM)], axis=1)\n"
   ]
  },
  {
   "cell_type": "code",
   "execution_count": null,
   "id": "4a6aece7",
   "metadata": {},
   "outputs": [],
   "source": [
    "output = make_analysis_data(past)"
   ]
  },
  {
   "cell_type": "markdown",
   "id": "c402cf69",
   "metadata": {},
   "source": [
    "# APPENDIX"
   ]
  },
  {
   "cell_type": "code",
   "execution_count": null,
   "id": "e61d4539",
   "metadata": {},
   "outputs": [],
   "source": [
    "plot_acf(past.dropna()[(\"org_diff\", \"ブレント\")])\n",
    "plot_pacf(past.dropna()[(\"org_diff\", \"ブレント\")])\n",
    "plt.show()"
   ]
  },
  {
   "cell_type": "code",
   "execution_count": null,
   "id": "caf4c2d2",
   "metadata": {},
   "outputs": [],
   "source": [
    "results.summary()"
   ]
  },
  {
   "cell_type": "code",
   "execution_count": null,
   "id": "c06f39ba",
   "metadata": {},
   "outputs": [],
   "source": [
    "output[(\"org\", \"ブレント\")].plot(legend=False, linewidth=.5, figsize=(10,3))"
   ]
  },
  {
   "cell_type": "code",
   "execution_count": null,
   "id": "eda223c1",
   "metadata": {},
   "outputs": [],
   "source": [
    "slice_data = output[(\"org\", \"ブレント\")].iloc[-1,:]\n",
    "ax = slice_data.hist(bins=100, figsize=(10,3))\n",
    "ax.axvline(slice_data.quantile(.95), color='r')\n",
    "ax.axvline(slice_data.quantile(.05), color='r')"
   ]
  },
  {
   "cell_type": "code",
   "execution_count": null,
   "id": "c40551ea",
   "metadata": {},
   "outputs": [],
   "source": [
    "sigma = np.diagonal(cov**(1/2))\n",
    "coef = 1.96\n",
    "lower = past[\"org_diff_shift_to_pred\"] - coef*sigma\n",
    "upper = past[\"org_diff_shift_to_pred\"] + coef*sigma"
   ]
  },
  {
   "cell_type": "code",
   "execution_count": null,
   "id": "8b29d7f4",
   "metadata": {},
   "outputs": [],
   "source": [
    "fig = plt.figure(figsize=(10,3))\n",
    "ax = fig.add_subplot()\n",
    "past[\"org_diff\"][\"ブレント\"].plot(ax=ax)\n",
    "kwargs = {\"ax\":ax, \"linestyle\":\"dotted\", \"color\":\"r\"}\n",
    "lower[\"ブレント\"].plot(**kwargs)\n",
    "upper[\"ブレント\"].plot(**kwargs)"
   ]
  }
 ],
 "metadata": {
  "kernelspec": {
   "display_name": "Python 3 (ipykernel)",
   "language": "python",
   "name": "python3"
  },
  "language_info": {
   "codemirror_mode": {
    "name": "ipython",
    "version": 3
   },
   "file_extension": ".py",
   "mimetype": "text/x-python",
   "name": "python",
   "nbconvert_exporter": "python",
   "pygments_lexer": "ipython3",
   "version": "3.9.5"
  }
 },
 "nbformat": 4,
 "nbformat_minor": 5
}
